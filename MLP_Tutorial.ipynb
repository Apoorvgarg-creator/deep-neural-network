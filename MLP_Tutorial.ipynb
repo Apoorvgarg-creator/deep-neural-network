{
 "cells": [
  {
   "cell_type": "markdown",
   "metadata": {},
   "source": [
    "# Deep Learning Basics"
   ]
  },
  {
   "cell_type": "markdown",
   "metadata": {},
   "source": [
    "## MultiLayer Perceptron/ Feed Forward Architecture\n",
    "### Implementing a 3 Layer Neural Network  from scratch\n",
    "<img src=\"./images/neural_net.gif\"\n",
    "     alt=\"Perceptron\"\n",
    "     style=\"width: 450px;\" />\n",
    "\n",
    "#### **Learning Goals**(Theory + Implementation)\n",
    "- Understand the Multilayer Perpcetron (MLP) Architecture\n",
    "- Understanding Forward Propagation & Backpropagtion, Loss & Activation Fn's\n",
    "- Making Predictions\n",
    "- Checking classification performance on different datasets\n",
    "- Classification Project \n",
    "\n",
    "### Part-1 Implementation Forward Propagation\n",
    "- Understanding the architecture\n",
    "- One Layer, Two Layer and Three Layer Networks\n",
    "- Building a 3 Layer MLP(with 2 hidden layers)\n",
    "- Writing the code\n",
    "### Part-2 Implementation Forward Propagation\n",
    "- How to pass one example? [DONE]\n",
    "- How to pass multiples examples(Vectorization)?\n",
    "- Understanding what is softmax?\n",
    "- Writing the code"
   ]
  },
  {
   "cell_type": "markdown",
   "metadata": {},
   "source": [
    "# Part -I Neural Architecture\n",
    "\n",
    "\n",
    "\n",
    "#### **1 Layer Network** \n",
    "<img src=\"./images/Perceptron.png\"\n",
    "     alt=\"Perceptron\"\n",
    "     style=\"width: 300px;\" />\n",
    "- Simplest unit Perceptron\n",
    "- Only one output unit\n",
    "- No hidden units\n",
    "- Input is not counted in layers\n",
    "\n",
    "\n",
    "\n",
    "#### **2 Layer Network** \n",
    "<img src=\"./images/one_white.png\"\n",
    "     alt=\"Perceptron\"\n",
    "     style=\"width: 450px;\" />\n",
    "\n",
    "- Two layers 1 Hidden + 1 output\n",
    "- Multi-layer perceptron or feed forward net or deep forward net\n",
    "\n",
    "\n",
    "#### **3 Layer Network** \n",
    "<img src=\"./images/two_white.png\"\n",
    "     alt=\"Perceptron\"\n",
    "     style=\"width: 550px;\" />\n",
    "\n",
    "- Two layers 1 Hidden + 1 output\n",
    "- Multi-layer perceptron/feed forward net/deep forward net\n",
    "\n",
    " \n",
    "\n",
    "\n",
    "\n",
    "\n"
   ]
  },
  {
   "cell_type": "markdown",
   "metadata": {},
   "source": [
    "### Part-3\n",
    "# Backpropagation Algorithm!\n",
    "\n",
    "- One of the most difficult/trickiest things in ML to get right\n",
    "- Why do we need this?\n",
    "\n",
    "<img src=\"./images/1-1.gif\"\n",
    "     alt=\"Perceptron\"\n",
    "     style=\"width: 550px;\" />\n",
    "\n",
    "- Quite Mathematical, challenging to understand\n",
    "- **Good Thing** - As a deep learning engineer, you never have to implement backpropagation from scratch.... \n",
    "###  but we are going build it from scratch :D !!"
   ]
  },
  {
   "cell_type": "code",
   "execution_count": 3,
   "metadata": {},
   "outputs": [],
   "source": [
    "import numpy as np"
   ]
  },
  {
   "cell_type": "code",
   "execution_count": 6,
   "metadata": {},
   "outputs": [],
   "source": [
    "#Model Parameters\n",
    "input_size = 3 # no_of_features\n",
    "layers = [4,3] # no of neurons in 1st and 2nd layer\n",
    "output_size = 2\n"
   ]
  },
  {
   "cell_type": "code",
   "execution_count": 23,
   "metadata": {},
   "outputs": [],
   "source": [
    "def softmax(a):\n",
    "    e_pa = np.exp(a) #Vector\n",
    "    ans = e_pa/np.sum(e_pa,axis=1,keepdims=True)\n",
    "    return ans\n",
    "    "
   ]
  },
  {
   "cell_type": "code",
   "execution_count": 26,
   "metadata": {},
   "outputs": [
    {
     "name": "stdout",
     "output_type": "stream",
     "text": [
      "[[4.53978687e-05 9.99954602e-01]]\n"
     ]
    }
   ],
   "source": [
    "a = np.array([[10,20]])\n",
    "\n",
    "a_ = softmax(a)\n",
    "print(a_)"
   ]
  },
  {
   "cell_type": "code",
   "execution_count": 27,
   "metadata": {},
   "outputs": [],
   "source": [
    "class NeuralNetwork:\n",
    "    \n",
    "    def __init__(self,input_size,layers,output_size):\n",
    "        np.random.seed(0)\n",
    "        \n",
    "        model = {} #Dictionary\n",
    "        \n",
    "        #First Layer\n",
    "        model['W1'] = np.random.randn(input_size,layers[0])\n",
    "        model['b1'] = np.zeros((1,layers[0]))\n",
    "        \n",
    "        #Second Layer\n",
    "        model['W2'] = np.random.randn(layers[0],layers[1])\n",
    "        model['b2'] = np.zeros((1,layers[1]))\n",
    "        \n",
    "        #Third/Output Layer\n",
    "        model['W3'] = np.random.randn(layers[1],output_size)\n",
    "        model['b3'] = np.zeros((1,output_size))\n",
    "        \n",
    "        self.model = model\n",
    "    \n",
    "    def forward(self,x):\n",
    "        \n",
    "        W1,W2,W3 = self.model['W1'],self.model['W2'],self.model['W3']\n",
    "        b1, b2, b3 = self.model['b1'],self.model['b2'],self.model['b3']\n",
    "        \n",
    "        z1 = np.dot(x,W1) + b1\n",
    "        a1 = np.tanh(z1) \n",
    "        \n",
    "        z2 = np.dot(a1,W2) + b2\n",
    "        a2 = np.tanh(z2)\n",
    "        \n",
    "        z3 = np.dot(a2,W3) + b3\n",
    "        y_ = softmax(z3)\n",
    "        \n",
    "    \n",
    "    def backward():\n",
    "        \n",
    "        \n",
    "        \n",
    "        \n",
    "        \n",
    "\n"
   ]
  },
  {
   "cell_type": "code",
   "execution_count": null,
   "metadata": {},
   "outputs": [],
   "source": [
    "\n",
    "\n",
    "\n",
    "\n",
    "\n",
    "\n",
    "\n",
    "\n",
    "\n"
   ]
  },
  {
   "cell_type": "code",
   "execution_count": null,
   "metadata": {},
   "outputs": [],
   "source": []
  },
  {
   "cell_type": "code",
   "execution_count": null,
   "metadata": {},
   "outputs": [],
   "source": []
  },
  {
   "cell_type": "code",
   "execution_count": null,
   "metadata": {},
   "outputs": [],
   "source": []
  },
  {
   "cell_type": "code",
   "execution_count": null,
   "metadata": {},
   "outputs": [],
   "source": []
  }
 ],
 "metadata": {
  "kernelspec": {
   "display_name": "Python 3",
   "language": "python",
   "name": "python3"
  },
  "language_info": {
   "codemirror_mode": {
    "name": "ipython",
    "version": 3
   },
   "file_extension": ".py",
   "mimetype": "text/x-python",
   "name": "python",
   "nbconvert_exporter": "python",
   "pygments_lexer": "ipython3",
   "version": "3.6.1"
  }
 },
 "nbformat": 4,
 "nbformat_minor": 2
}
